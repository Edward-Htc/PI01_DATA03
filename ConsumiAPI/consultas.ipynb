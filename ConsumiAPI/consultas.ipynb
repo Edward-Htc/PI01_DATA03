{
 "cells": [
  {
   "cell_type": "code",
   "execution_count": 63,
   "metadata": {},
   "outputs": [],
   "source": [
    "import requests\n",
    "import pandas as pd\n",
    "import json\n",
    "import numpy as np"
   ]
  },
  {
   "cell_type": "markdown",
   "metadata": {},
   "source": [
    "## Copio los enlaces de mi API"
   ]
  },
  {
   "cell_type": "code",
   "execution_count": 2,
   "metadata": {},
   "outputs": [],
   "source": [
    "url_race = 'http://127.0.0.1:8000/race'\n",
    "url_qualifying = 'http://127.0.0.1:8000/qualifying'\n",
    "url_circuits = 'http://127.0.0.1:8000/circuits'\n",
    "url_results = 'http://127.0.0.1:8000/results'\n",
    "url_constructors = 'http://127.0.0.1:8000/constructors'\n",
    "url_drivers = 'http://127.0.0.1:8000/drivers'\n",
    "#url_lapTimes = 'http://127.0.0.1:8000/lapTimes'\n",
    "url_pitStops = 'http://127.0.0.1:8000/pitStops'"
   ]
  },
  {
   "cell_type": "markdown",
   "metadata": {},
   "source": [
    "## Realizo una peticion GET"
   ]
  },
  {
   "cell_type": "code",
   "execution_count": 4,
   "metadata": {},
   "outputs": [],
   "source": [
    "race = requests.get(url_race)\n",
    "qualifying = requests.get(url_qualifying)\n",
    "circuits = requests.get(url_circuits)\n",
    "results = requests.get(url_results)\n",
    "constructors = requests.get(url_constructors)\n",
    "drivers = requests.get(url_drivers)\n",
    "#lapTimes = requests.get(url_lapTimes)\n",
    "pitStops = requests.get(url_pitStops)"
   ]
  },
  {
   "cell_type": "markdown",
   "metadata": {},
   "source": [
    "## Si la respuesta es \"200\" que realice la lectura"
   ]
  },
  {
   "cell_type": "code",
   "execution_count": 6,
   "metadata": {},
   "outputs": [],
   "source": [
    "if race.status_code == 200 and qualifying.status_code == 200 and circuits.status_code == 200 and results.status_code == 200 and constructors.status_code == 200 and drivers.status_code == 200 and pitStops.status_code == 200:\n",
    "    race = race.json()\n",
    "    qualifying = qualifying.json()\n",
    "    circuits = circuits.json()\n",
    "    results = results.json()\n",
    "    constructors = constructors.json()\n",
    "    drivers = drivers.json()\n",
    "    #lapTimes = lapTimes.json()\n",
    "    pitStops = pitStops.json()"
   ]
  },
  {
   "cell_type": "markdown",
   "metadata": {},
   "source": [
    "## La API nos devuelve una lista, por eso lo pasamos a JSON"
   ]
  },
  {
   "cell_type": "code",
   "execution_count": 7,
   "metadata": {},
   "outputs": [],
   "source": [
    "race = json.dumps(race)\n",
    "qualifying = json.dumps(qualifying)\n",
    "circuits = json.dumps(circuits)\n",
    "results = json.dumps(results)\n",
    "constructors = json.dumps(constructors)\n",
    "drivers = json.dumps(drivers)\n",
    "#lapTimes = json.dumps(lapTimes)\n",
    "pitStops = json.dumps(pitStops)"
   ]
  },
  {
   "cell_type": "markdown",
   "metadata": {},
   "source": [
    "## Leemos la data con Pandas"
   ]
  },
  {
   "cell_type": "code",
   "execution_count": 8,
   "metadata": {},
   "outputs": [],
   "source": [
    "df_race = pd.read_json(race,orient='records')\n",
    "df_qualifying = pd.read_json(qualifying,orient='records')\n",
    "df_circuits = pd.read_json(circuits,orient='records')\n",
    "df_results = pd.read_json(results,orient='records')\n",
    "df_constructors = pd.read_json(constructors,orient='records')\n",
    "df_drivers = pd.read_json(drivers,orient='records')\n",
    "#df_lapTimes = pd.read_json(lapTimes,orient='records')\n",
    "df_pitStops = pd.read_json(pitStops,orient='records')"
   ]
  },
  {
   "cell_type": "markdown",
   "metadata": {},
   "source": [
    "# Ejercicios"
   ]
  },
  {
   "cell_type": "markdown",
   "metadata": {},
   "source": [
    "## 1. Año con mas carreras"
   ]
  },
  {
   "cell_type": "code",
   "execution_count": 11,
   "metadata": {},
   "outputs": [
    {
     "data": {
      "text/html": [
       "<div>\n",
       "<style scoped>\n",
       "    .dataframe tbody tr th:only-of-type {\n",
       "        vertical-align: middle;\n",
       "    }\n",
       "\n",
       "    .dataframe tbody tr th {\n",
       "        vertical-align: top;\n",
       "    }\n",
       "\n",
       "    .dataframe thead th {\n",
       "        text-align: right;\n",
       "    }\n",
       "</style>\n",
       "<table border=\"1\" class=\"dataframe\">\n",
       "  <thead>\n",
       "    <tr style=\"text-align: right;\">\n",
       "      <th></th>\n",
       "      <th>race_id</th>\n",
       "      <th>circuit</th>\n",
       "      <th>date</th>\n",
       "      <th>name</th>\n",
       "      <th>round</th>\n",
       "      <th>time</th>\n",
       "      <th>url</th>\n",
       "      <th>year</th>\n",
       "    </tr>\n",
       "  </thead>\n",
       "  <tbody>\n",
       "    <tr>\n",
       "      <th>0</th>\n",
       "      <td>1</td>\n",
       "      <td>1</td>\n",
       "      <td>2009-03-29</td>\n",
       "      <td>Australian Grand Prix</td>\n",
       "      <td>1</td>\n",
       "      <td>06:00:00</td>\n",
       "      <td>http://en.wikipedia.org/wiki/2009_Australian_G...</td>\n",
       "      <td>2009</td>\n",
       "    </tr>\n",
       "    <tr>\n",
       "      <th>1</th>\n",
       "      <td>2</td>\n",
       "      <td>2</td>\n",
       "      <td>2009-04-05</td>\n",
       "      <td>Malaysian Grand Prix</td>\n",
       "      <td>2</td>\n",
       "      <td>09:00:00</td>\n",
       "      <td>http://en.wikipedia.org/wiki/2009_Malaysian_Gr...</td>\n",
       "      <td>2009</td>\n",
       "    </tr>\n",
       "    <tr>\n",
       "      <th>2</th>\n",
       "      <td>3</td>\n",
       "      <td>17</td>\n",
       "      <td>2009-04-19</td>\n",
       "      <td>Chinese Grand Prix</td>\n",
       "      <td>3</td>\n",
       "      <td>07:00:00</td>\n",
       "      <td>http://en.wikipedia.org/wiki/2009_Chinese_Gran...</td>\n",
       "      <td>2009</td>\n",
       "    </tr>\n",
       "    <tr>\n",
       "      <th>3</th>\n",
       "      <td>4</td>\n",
       "      <td>3</td>\n",
       "      <td>2009-04-26</td>\n",
       "      <td>Bahrain Grand Prix</td>\n",
       "      <td>4</td>\n",
       "      <td>12:00:00</td>\n",
       "      <td>http://en.wikipedia.org/wiki/2009_Bahrain_Gran...</td>\n",
       "      <td>2009</td>\n",
       "    </tr>\n",
       "    <tr>\n",
       "      <th>4</th>\n",
       "      <td>5</td>\n",
       "      <td>4</td>\n",
       "      <td>2009-05-10</td>\n",
       "      <td>Spanish Grand Prix</td>\n",
       "      <td>5</td>\n",
       "      <td>12:00:00</td>\n",
       "      <td>http://en.wikipedia.org/wiki/2009_Spanish_Gran...</td>\n",
       "      <td>2009</td>\n",
       "    </tr>\n",
       "  </tbody>\n",
       "</table>\n",
       "</div>"
      ],
      "text/plain": [
       "   race_id  circuit       date                   name  round      time  \\\n",
       "0        1        1 2009-03-29  Australian Grand Prix      1  06:00:00   \n",
       "1        2        2 2009-04-05   Malaysian Grand Prix      2  09:00:00   \n",
       "2        3       17 2009-04-19     Chinese Grand Prix      3  07:00:00   \n",
       "3        4        3 2009-04-26     Bahrain Grand Prix      4  12:00:00   \n",
       "4        5        4 2009-05-10     Spanish Grand Prix      5  12:00:00   \n",
       "\n",
       "                                                 url  year  \n",
       "0  http://en.wikipedia.org/wiki/2009_Australian_G...  2009  \n",
       "1  http://en.wikipedia.org/wiki/2009_Malaysian_Gr...  2009  \n",
       "2  http://en.wikipedia.org/wiki/2009_Chinese_Gran...  2009  \n",
       "3  http://en.wikipedia.org/wiki/2009_Bahrain_Gran...  2009  \n",
       "4  http://en.wikipedia.org/wiki/2009_Spanish_Gran...  2009  "
      ]
     },
     "execution_count": 11,
     "metadata": {},
     "output_type": "execute_result"
    }
   ],
   "source": [
    "df_race.head()"
   ]
  },
  {
   "cell_type": "code",
   "execution_count": 14,
   "metadata": {},
   "outputs": [],
   "source": [
    "index_max = df_race['round'].idxmax()"
   ]
  },
  {
   "cell_type": "code",
   "execution_count": 18,
   "metadata": {},
   "outputs": [
    {
     "data": {
      "text/plain": [
       "race_id                                                 1073\n",
       "circuit                                                   24\n",
       "date                                     2021-12-12 00:00:00\n",
       "name                                    Abu Dhabi Grand Prix\n",
       "round                                                     23\n",
       "time                                                13:00:00\n",
       "url        http://en.wikipedia.org/wiki/2021_Abu_Dhabi_Gr...\n",
       "year                                                    2021\n",
       "Name: 1057, dtype: object"
      ]
     },
     "execution_count": 18,
     "metadata": {},
     "output_type": "execute_result"
    }
   ],
   "source": [
    "df_race.loc[index_max,:]"
   ]
  },
  {
   "cell_type": "code",
   "execution_count": 19,
   "metadata": {},
   "outputs": [
    {
     "data": {
      "text/plain": [
       "2021"
      ]
     },
     "execution_count": 19,
     "metadata": {},
     "output_type": "execute_result"
    }
   ],
   "source": [
    "### Respuesta:\n",
    "df_race.loc[index_max,:]['year']"
   ]
  },
  {
   "cell_type": "markdown",
   "metadata": {},
   "source": [
    "## 2. Piloto con mayor cantidad de primeros puestos"
   ]
  },
  {
   "cell_type": "code",
   "execution_count": 174,
   "metadata": {},
   "outputs": [
    {
     "data": {
      "text/html": [
       "<div>\n",
       "<style scoped>\n",
       "    .dataframe tbody tr th:only-of-type {\n",
       "        vertical-align: middle;\n",
       "    }\n",
       "\n",
       "    .dataframe tbody tr th {\n",
       "        vertical-align: top;\n",
       "    }\n",
       "\n",
       "    .dataframe thead th {\n",
       "        text-align: right;\n",
       "    }\n",
       "</style>\n",
       "<table border=\"1\" class=\"dataframe\">\n",
       "  <thead>\n",
       "    <tr style=\"text-align: right;\">\n",
       "      <th></th>\n",
       "      <th>result_id</th>\n",
       "      <th>constructor</th>\n",
       "      <th>driver</th>\n",
       "      <th>fastest_lap</th>\n",
       "      <th>fastest_lap_speed</th>\n",
       "      <th>fastest_lap_time</th>\n",
       "      <th>grid</th>\n",
       "      <th>laps</th>\n",
       "      <th>miliseconds</th>\n",
       "      <th>number</th>\n",
       "      <th>points</th>\n",
       "      <th>position</th>\n",
       "      <th>position_order</th>\n",
       "      <th>position_text</th>\n",
       "      <th>race</th>\n",
       "      <th>ranked</th>\n",
       "      <th>status_id</th>\n",
       "      <th>times</th>\n",
       "      <th>Usar</th>\n",
       "    </tr>\n",
       "  </thead>\n",
       "  <tbody>\n",
       "    <tr>\n",
       "      <th>0</th>\n",
       "      <td>1</td>\n",
       "      <td>1</td>\n",
       "      <td>1</td>\n",
       "      <td>39</td>\n",
       "      <td>218.300</td>\n",
       "      <td>1:27.452</td>\n",
       "      <td>1</td>\n",
       "      <td>58</td>\n",
       "      <td>5690616</td>\n",
       "      <td>22</td>\n",
       "      <td>10.0</td>\n",
       "      <td>1</td>\n",
       "      <td>1</td>\n",
       "      <td>1</td>\n",
       "      <td>18</td>\n",
       "      <td>2</td>\n",
       "      <td>1</td>\n",
       "      <td>1:34:50.616</td>\n",
       "      <td>True</td>\n",
       "    </tr>\n",
       "    <tr>\n",
       "      <th>2</th>\n",
       "      <td>3</td>\n",
       "      <td>3</td>\n",
       "      <td>3</td>\n",
       "      <td>41</td>\n",
       "      <td>216.719</td>\n",
       "      <td>1:28.090</td>\n",
       "      <td>7</td>\n",
       "      <td>58</td>\n",
       "      <td>5698779</td>\n",
       "      <td>7</td>\n",
       "      <td>6.0</td>\n",
       "      <td>3</td>\n",
       "      <td>3</td>\n",
       "      <td>3</td>\n",
       "      <td>18</td>\n",
       "      <td>5</td>\n",
       "      <td>1</td>\n",
       "      <td>+8.163</td>\n",
       "      <td>True</td>\n",
       "    </tr>\n",
       "    <tr>\n",
       "      <th>15</th>\n",
       "      <td>16</td>\n",
       "      <td>10</td>\n",
       "      <td>16</td>\n",
       "      <td>8</td>\n",
       "      <td>207.461</td>\n",
       "      <td>1:32.021</td>\n",
       "      <td>22</td>\n",
       "      <td>8</td>\n",
       "      <td>0</td>\n",
       "      <td>20</td>\n",
       "      <td>0.0</td>\n",
       "      <td>0</td>\n",
       "      <td>16</td>\n",
       "      <td>R</td>\n",
       "      <td>18</td>\n",
       "      <td>17</td>\n",
       "      <td>9</td>\n",
       "      <td>0</td>\n",
       "      <td>True</td>\n",
       "    </tr>\n",
       "    <tr>\n",
       "      <th>18</th>\n",
       "      <td>19</td>\n",
       "      <td>8</td>\n",
       "      <td>19</td>\n",
       "      <td>0</td>\n",
       "      <td>0.000</td>\n",
       "      <td>0</td>\n",
       "      <td>21</td>\n",
       "      <td>0</td>\n",
       "      <td>0</td>\n",
       "      <td>19</td>\n",
       "      <td>0.0</td>\n",
       "      <td>0</td>\n",
       "      <td>19</td>\n",
       "      <td>R</td>\n",
       "      <td>18</td>\n",
       "      <td>0</td>\n",
       "      <td>4</td>\n",
       "      <td>0</td>\n",
       "      <td>True</td>\n",
       "    </tr>\n",
       "    <tr>\n",
       "      <th>20</th>\n",
       "      <td>21</td>\n",
       "      <td>10</td>\n",
       "      <td>21</td>\n",
       "      <td>0</td>\n",
       "      <td>0.000</td>\n",
       "      <td>0</td>\n",
       "      <td>16</td>\n",
       "      <td>0</td>\n",
       "      <td>0</td>\n",
       "      <td>21</td>\n",
       "      <td>0.0</td>\n",
       "      <td>0</td>\n",
       "      <td>21</td>\n",
       "      <td>R</td>\n",
       "      <td>18</td>\n",
       "      <td>0</td>\n",
       "      <td>4</td>\n",
       "      <td>0</td>\n",
       "      <td>True</td>\n",
       "    </tr>\n",
       "  </tbody>\n",
       "</table>\n",
       "</div>"
      ],
      "text/plain": [
       "    result_id  constructor  driver  fastest_lap  fastest_lap_speed  \\\n",
       "0           1            1       1           39            218.300   \n",
       "2           3            3       3           41            216.719   \n",
       "15         16           10      16            8            207.461   \n",
       "18         19            8      19            0              0.000   \n",
       "20         21           10      21            0              0.000   \n",
       "\n",
       "   fastest_lap_time  grid  laps  miliseconds  number  points  position  \\\n",
       "0          1:27.452     1    58      5690616      22    10.0         1   \n",
       "2          1:28.090     7    58      5698779       7     6.0         3   \n",
       "15         1:32.021    22     8            0      20     0.0         0   \n",
       "18                0    21     0            0      19     0.0         0   \n",
       "20                0    16     0            0      21     0.0         0   \n",
       "\n",
       "    position_order position_text  race  ranked  status_id        times  Usar  \n",
       "0                1             1    18       2          1  1:34:50.616  True  \n",
       "2                3             3    18       5          1       +8.163  True  \n",
       "15              16             R    18      17          9            0  True  \n",
       "18              19             R    18       0          4            0  True  \n",
       "20              21             R    18       0          4            0  True  "
      ]
     },
     "execution_count": 174,
     "metadata": {},
     "output_type": "execute_result"
    }
   ],
   "source": [
    "# Vemos la data\n",
    "df_results.head()"
   ]
  },
  {
   "cell_type": "code",
   "execution_count": 175,
   "metadata": {},
   "outputs": [],
   "source": [
    "# Extraemos el indice que indica el mayor \"numero\" de veces que ocupo el puesto numero uno\n",
    "index_max_num = df_results[df_results['position'] == 1]['num'].idxmax()"
   ]
  },
  {
   "cell_type": "code",
   "execution_count": 177,
   "metadata": {},
   "outputs": [
    {
     "data": {
      "text/html": [
       "<div>\n",
       "<style scoped>\n",
       "    .dataframe tbody tr th:only-of-type {\n",
       "        vertical-align: middle;\n",
       "    }\n",
       "\n",
       "    .dataframe tbody tr th {\n",
       "        vertical-align: top;\n",
       "    }\n",
       "\n",
       "    .dataframe thead th {\n",
       "        text-align: right;\n",
       "    }\n",
       "</style>\n",
       "<table border=\"1\" class=\"dataframe\">\n",
       "  <thead>\n",
       "    <tr style=\"text-align: right;\">\n",
       "      <th></th>\n",
       "      <th>result_id</th>\n",
       "      <th>constructor</th>\n",
       "      <th>driver</th>\n",
       "      <th>fastest_lap</th>\n",
       "      <th>fastest_lap_speed</th>\n",
       "      <th>fastest_lap_time</th>\n",
       "      <th>grid</th>\n",
       "      <th>laps</th>\n",
       "      <th>miliseconds</th>\n",
       "      <th>number</th>\n",
       "      <th>points</th>\n",
       "      <th>position</th>\n",
       "      <th>position_order</th>\n",
       "      <th>position_text</th>\n",
       "      <th>race</th>\n",
       "      <th>ranked</th>\n",
       "      <th>status_id</th>\n",
       "      <th>times</th>\n",
       "      <th>Usar</th>\n",
       "    </tr>\n",
       "  </thead>\n",
       "  <tbody>\n",
       "    <tr>\n",
       "      <th>0</th>\n",
       "      <td>1</td>\n",
       "      <td>1</td>\n",
       "      <td>1</td>\n",
       "      <td>39</td>\n",
       "      <td>218.300</td>\n",
       "      <td>1:27.452</td>\n",
       "      <td>1</td>\n",
       "      <td>58</td>\n",
       "      <td>5690616</td>\n",
       "      <td>22</td>\n",
       "      <td>10.0</td>\n",
       "      <td>1</td>\n",
       "      <td>1</td>\n",
       "      <td>1</td>\n",
       "      <td>18</td>\n",
       "      <td>2</td>\n",
       "      <td>1</td>\n",
       "      <td>1:34:50.616</td>\n",
       "      <td>True</td>\n",
       "    </tr>\n",
       "    <tr>\n",
       "      <th>108</th>\n",
       "      <td>109</td>\n",
       "      <td>1</td>\n",
       "      <td>1</td>\n",
       "      <td>71</td>\n",
       "      <td>153.152</td>\n",
       "      <td>1:18.510</td>\n",
       "      <td>3</td>\n",
       "      <td>76</td>\n",
       "      <td>7242742</td>\n",
       "      <td>22</td>\n",
       "      <td>10.0</td>\n",
       "      <td>1</td>\n",
       "      <td>1</td>\n",
       "      <td>1</td>\n",
       "      <td>23</td>\n",
       "      <td>6</td>\n",
       "      <td>1</td>\n",
       "      <td>2:00:42.742</td>\n",
       "      <td>True</td>\n",
       "    </tr>\n",
       "    <tr>\n",
       "      <th>168</th>\n",
       "      <td>169</td>\n",
       "      <td>1</td>\n",
       "      <td>1</td>\n",
       "      <td>16</td>\n",
       "      <td>199.398</td>\n",
       "      <td>1:32.817</td>\n",
       "      <td>4</td>\n",
       "      <td>60</td>\n",
       "      <td>5949440</td>\n",
       "      <td>22</td>\n",
       "      <td>10.0</td>\n",
       "      <td>1</td>\n",
       "      <td>1</td>\n",
       "      <td>1</td>\n",
       "      <td>26</td>\n",
       "      <td>3</td>\n",
       "      <td>1</td>\n",
       "      <td>1:39:09.440</td>\n",
       "      <td>True</td>\n",
       "    </tr>\n",
       "    <tr>\n",
       "      <th>188</th>\n",
       "      <td>189</td>\n",
       "      <td>1</td>\n",
       "      <td>1</td>\n",
       "      <td>17</td>\n",
       "      <td>216.552</td>\n",
       "      <td>1:16.039</td>\n",
       "      <td>1</td>\n",
       "      <td>67</td>\n",
       "      <td>5480874</td>\n",
       "      <td>22</td>\n",
       "      <td>10.0</td>\n",
       "      <td>1</td>\n",
       "      <td>1</td>\n",
       "      <td>1</td>\n",
       "      <td>27</td>\n",
       "      <td>2</td>\n",
       "      <td>1</td>\n",
       "      <td>1:31:20.874</td>\n",
       "      <td>True</td>\n",
       "    </tr>\n",
       "    <tr>\n",
       "      <th>328</th>\n",
       "      <td>329</td>\n",
       "      <td>1</td>\n",
       "      <td>1</td>\n",
       "      <td>13</td>\n",
       "      <td>203.722</td>\n",
       "      <td>1:36.325</td>\n",
       "      <td>1</td>\n",
       "      <td>56</td>\n",
       "      <td>5517403</td>\n",
       "      <td>22</td>\n",
       "      <td>10.0</td>\n",
       "      <td>1</td>\n",
       "      <td>1</td>\n",
       "      <td>1</td>\n",
       "      <td>34</td>\n",
       "      <td>1</td>\n",
       "      <td>1</td>\n",
       "      <td>1:31:57.403</td>\n",
       "      <td>True</td>\n",
       "    </tr>\n",
       "  </tbody>\n",
       "</table>\n",
       "</div>"
      ],
      "text/plain": [
       "     result_id  constructor  driver  fastest_lap  fastest_lap_speed  \\\n",
       "0            1            1       1           39            218.300   \n",
       "108        109            1       1           71            153.152   \n",
       "168        169            1       1           16            199.398   \n",
       "188        189            1       1           17            216.552   \n",
       "328        329            1       1           13            203.722   \n",
       "\n",
       "    fastest_lap_time  grid  laps  miliseconds  number  points  position  \\\n",
       "0           1:27.452     1    58      5690616      22    10.0         1   \n",
       "108         1:18.510     3    76      7242742      22    10.0         1   \n",
       "168         1:32.817     4    60      5949440      22    10.0         1   \n",
       "188         1:16.039     1    67      5480874      22    10.0         1   \n",
       "328         1:36.325     1    56      5517403      22    10.0         1   \n",
       "\n",
       "     position_order position_text  race  ranked  status_id        times  Usar  \n",
       "0                 1             1    18       2          1  1:34:50.616  True  \n",
       "108               1             1    23       6          1  2:00:42.742  True  \n",
       "168               1             1    26       3          1  1:39:09.440  True  \n",
       "188               1             1    27       2          1  1:31:20.874  True  \n",
       "328               1             1    34       1          1  1:31:57.403  True  "
      ]
     },
     "execution_count": 177,
     "metadata": {},
     "output_type": "execute_result"
    }
   ],
   "source": [
    "#Solo extraemos los de puesto 1\n",
    "df_results[df_results['position'] == 1].head()"
   ]
  },
  {
   "cell_type": "code",
   "execution_count": 186,
   "metadata": {},
   "outputs": [],
   "source": [
    "# Agrupamos y contamos quien ocupo mas veces el puesto 1\n",
    "df_results = df_results.groupby(['driver']).size().reset_index(name='Cantidad_Ganadas')"
   ]
  },
  {
   "cell_type": "code",
   "execution_count": 196,
   "metadata": {},
   "outputs": [
    {
     "data": {
      "text/html": [
       "<div>\n",
       "<style scoped>\n",
       "    .dataframe tbody tr th:only-of-type {\n",
       "        vertical-align: middle;\n",
       "    }\n",
       "\n",
       "    .dataframe tbody tr th {\n",
       "        vertical-align: top;\n",
       "    }\n",
       "\n",
       "    .dataframe thead th {\n",
       "        text-align: right;\n",
       "    }\n",
       "</style>\n",
       "<table border=\"1\" class=\"dataframe\">\n",
       "  <thead>\n",
       "    <tr style=\"text-align: right;\">\n",
       "      <th></th>\n",
       "      <th>driver</th>\n",
       "      <th>Cantidad_Ganadas</th>\n",
       "    </tr>\n",
       "  </thead>\n",
       "  <tbody>\n",
       "    <tr>\n",
       "      <th>0</th>\n",
       "      <td>1</td>\n",
       "      <td>266</td>\n",
       "    </tr>\n",
       "    <tr>\n",
       "      <th>1</th>\n",
       "      <td>3</td>\n",
       "      <td>206</td>\n",
       "    </tr>\n",
       "    <tr>\n",
       "      <th>2</th>\n",
       "      <td>16</td>\n",
       "      <td>128</td>\n",
       "    </tr>\n",
       "    <tr>\n",
       "      <th>3</th>\n",
       "      <td>19</td>\n",
       "      <td>24</td>\n",
       "    </tr>\n",
       "    <tr>\n",
       "      <th>4</th>\n",
       "      <td>21</td>\n",
       "      <td>231</td>\n",
       "    </tr>\n",
       "  </tbody>\n",
       "</table>\n",
       "</div>"
      ],
      "text/plain": [
       "   driver  Cantidad_Ganadas\n",
       "0       1               266\n",
       "1       3               206\n",
       "2      16               128\n",
       "3      19                24\n",
       "4      21               231"
      ]
     },
     "execution_count": 196,
     "metadata": {},
     "output_type": "execute_result"
    }
   ],
   "source": [
    "# Mostramos informacion\n",
    "df_results.head()"
   ]
  },
  {
   "cell_type": "code",
   "execution_count": 189,
   "metadata": {},
   "outputs": [
    {
     "data": {
      "text/plain": [
       "10"
      ]
     },
     "execution_count": 189,
     "metadata": {},
     "output_type": "execute_result"
    }
   ],
   "source": [
    "# Ubicamos el indice que iene el mayor numero de cantidad ganadas\n",
    "df_results['Cantidad_Ganadas'].idxmax()"
   ]
  },
  {
   "cell_type": "code",
   "execution_count": 192,
   "metadata": {},
   "outputs": [],
   "source": [
    "#Buscamos el id del driver en esa posicion\n",
    "id_driver_max = df_results.loc[10,:]['driver']"
   ]
  },
  {
   "cell_type": "code",
   "execution_count": 193,
   "metadata": {},
   "outputs": [
    {
     "data": {
      "text/html": [
       "<div>\n",
       "<style scoped>\n",
       "    .dataframe tbody tr th:only-of-type {\n",
       "        vertical-align: middle;\n",
       "    }\n",
       "\n",
       "    .dataframe tbody tr th {\n",
       "        vertical-align: top;\n",
       "    }\n",
       "\n",
       "    .dataframe thead th {\n",
       "        text-align: right;\n",
       "    }\n",
       "</style>\n",
       "<table border=\"1\" class=\"dataframe\">\n",
       "  <thead>\n",
       "    <tr style=\"text-align: right;\">\n",
       "      <th></th>\n",
       "      <th>driver_id</th>\n",
       "      <th>code</th>\n",
       "      <th>dob</th>\n",
       "      <th>driver_ref</th>\n",
       "      <th>forename</th>\n",
       "      <th>nationality</th>\n",
       "      <th>number</th>\n",
       "      <th>surname</th>\n",
       "      <th>url</th>\n",
       "    </tr>\n",
       "  </thead>\n",
       "  <tbody>\n",
       "    <tr>\n",
       "      <th>0</th>\n",
       "      <td>1</td>\n",
       "      <td>HAM</td>\n",
       "      <td>1985-01-07</td>\n",
       "      <td>hamilton</td>\n",
       "      <td>Lewis</td>\n",
       "      <td>British</td>\n",
       "      <td>44.0</td>\n",
       "      <td>Hamilton</td>\n",
       "      <td>http://en.wikipedia.org/wiki/Lewis_Hamilton\\r</td>\n",
       "    </tr>\n",
       "    <tr>\n",
       "      <th>1</th>\n",
       "      <td>2</td>\n",
       "      <td>HEI</td>\n",
       "      <td>1977-05-10</td>\n",
       "      <td>heidfeld</td>\n",
       "      <td>Nick</td>\n",
       "      <td>German</td>\n",
       "      <td></td>\n",
       "      <td>Heidfeld</td>\n",
       "      <td>http://en.wikipedia.org/wiki/Nick_Heidfeld\\r</td>\n",
       "    </tr>\n",
       "    <tr>\n",
       "      <th>2</th>\n",
       "      <td>3</td>\n",
       "      <td>ROS</td>\n",
       "      <td>1985-06-27</td>\n",
       "      <td>rosberg</td>\n",
       "      <td>Nico</td>\n",
       "      <td>German</td>\n",
       "      <td>6.0</td>\n",
       "      <td>Rosberg</td>\n",
       "      <td>http://en.wikipedia.org/wiki/Nico_Rosberg\\r</td>\n",
       "    </tr>\n",
       "    <tr>\n",
       "      <th>3</th>\n",
       "      <td>4</td>\n",
       "      <td>ALO</td>\n",
       "      <td>1981-07-29</td>\n",
       "      <td>alonso</td>\n",
       "      <td>Fernando</td>\n",
       "      <td>Spanish</td>\n",
       "      <td>14.0</td>\n",
       "      <td>Alonso</td>\n",
       "      <td>http://en.wikipedia.org/wiki/Fernando_Alonso\\r</td>\n",
       "    </tr>\n",
       "    <tr>\n",
       "      <th>4</th>\n",
       "      <td>5</td>\n",
       "      <td>KOV</td>\n",
       "      <td>1981-10-19</td>\n",
       "      <td>kovalainen</td>\n",
       "      <td>Heikki</td>\n",
       "      <td>Finnish</td>\n",
       "      <td></td>\n",
       "      <td>Kovalainen</td>\n",
       "      <td>http://en.wikipedia.org/wiki/Heikki_Kovalainen\\r</td>\n",
       "    </tr>\n",
       "  </tbody>\n",
       "</table>\n",
       "</div>"
      ],
      "text/plain": [
       "   driver_id code         dob  driver_ref  forename nationality number  \\\n",
       "0          1  HAM  1985-01-07    hamilton     Lewis     British   44.0   \n",
       "1          2  HEI  1977-05-10    heidfeld      Nick      German          \n",
       "2          3  ROS  1985-06-27     rosberg      Nico      German    6.0   \n",
       "3          4  ALO  1981-07-29      alonso  Fernando     Spanish   14.0   \n",
       "4          5  KOV  1981-10-19  kovalainen    Heikki     Finnish          \n",
       "\n",
       "      surname                                               url  \n",
       "0    Hamilton     http://en.wikipedia.org/wiki/Lewis_Hamilton\\r  \n",
       "1    Heidfeld      http://en.wikipedia.org/wiki/Nick_Heidfeld\\r  \n",
       "2     Rosberg       http://en.wikipedia.org/wiki/Nico_Rosberg\\r  \n",
       "3      Alonso    http://en.wikipedia.org/wiki/Fernando_Alonso\\r  \n",
       "4  Kovalainen  http://en.wikipedia.org/wiki/Heikki_Kovalainen\\r  "
      ]
     },
     "execution_count": 193,
     "metadata": {},
     "output_type": "execute_result"
    }
   ],
   "source": [
    "# Vemos como es la data de Drivers\n",
    "df_drivers.head()"
   ]
  },
  {
   "cell_type": "code",
   "execution_count": 194,
   "metadata": {},
   "outputs": [],
   "source": [
    "# Extraemos el forename\n",
    "forename = df_drivers[df_drivers['driver_id'] == id_driver_max]['forename']\n",
    "# Extraemos el surname\n",
    "surname = df_drivers[df_drivers['driver_id'] == id_driver_max]['surname']"
   ]
  },
  {
   "cell_type": "code",
   "execution_count": 195,
   "metadata": {},
   "outputs": [
    {
     "data": {
      "text/plain": [
       "'Michael Schumacher'"
      ]
     },
     "execution_count": 195,
     "metadata": {},
     "output_type": "execute_result"
    }
   ],
   "source": [
    "## Resultado: Piloto con mayor cantidad de puestos numero 1\n",
    "forename.values[0]+\" \"+surname.values[0]"
   ]
  },
  {
   "cell_type": "markdown",
   "metadata": {},
   "source": [
    "## 3. Nombre del circuito mas recorrido"
   ]
  },
  {
   "cell_type": "code",
   "execution_count": 49,
   "metadata": {},
   "outputs": [
    {
     "data": {
      "text/html": [
       "<div>\n",
       "<style scoped>\n",
       "    .dataframe tbody tr th:only-of-type {\n",
       "        vertical-align: middle;\n",
       "    }\n",
       "\n",
       "    .dataframe tbody tr th {\n",
       "        vertical-align: top;\n",
       "    }\n",
       "\n",
       "    .dataframe thead th {\n",
       "        text-align: right;\n",
       "    }\n",
       "</style>\n",
       "<table border=\"1\" class=\"dataframe\">\n",
       "  <thead>\n",
       "    <tr style=\"text-align: right;\">\n",
       "      <th></th>\n",
       "      <th>race_id</th>\n",
       "      <th>circuit</th>\n",
       "      <th>date</th>\n",
       "      <th>name</th>\n",
       "      <th>round</th>\n",
       "      <th>time</th>\n",
       "      <th>url</th>\n",
       "      <th>year</th>\n",
       "    </tr>\n",
       "  </thead>\n",
       "  <tbody>\n",
       "    <tr>\n",
       "      <th>0</th>\n",
       "      <td>1</td>\n",
       "      <td>1</td>\n",
       "      <td>2009-03-29</td>\n",
       "      <td>Australian Grand Prix</td>\n",
       "      <td>1</td>\n",
       "      <td>06:00:00</td>\n",
       "      <td>http://en.wikipedia.org/wiki/2009_Australian_G...</td>\n",
       "      <td>2009</td>\n",
       "    </tr>\n",
       "    <tr>\n",
       "      <th>1</th>\n",
       "      <td>2</td>\n",
       "      <td>2</td>\n",
       "      <td>2009-04-05</td>\n",
       "      <td>Malaysian Grand Prix</td>\n",
       "      <td>2</td>\n",
       "      <td>09:00:00</td>\n",
       "      <td>http://en.wikipedia.org/wiki/2009_Malaysian_Gr...</td>\n",
       "      <td>2009</td>\n",
       "    </tr>\n",
       "    <tr>\n",
       "      <th>2</th>\n",
       "      <td>3</td>\n",
       "      <td>17</td>\n",
       "      <td>2009-04-19</td>\n",
       "      <td>Chinese Grand Prix</td>\n",
       "      <td>3</td>\n",
       "      <td>07:00:00</td>\n",
       "      <td>http://en.wikipedia.org/wiki/2009_Chinese_Gran...</td>\n",
       "      <td>2009</td>\n",
       "    </tr>\n",
       "    <tr>\n",
       "      <th>3</th>\n",
       "      <td>4</td>\n",
       "      <td>3</td>\n",
       "      <td>2009-04-26</td>\n",
       "      <td>Bahrain Grand Prix</td>\n",
       "      <td>4</td>\n",
       "      <td>12:00:00</td>\n",
       "      <td>http://en.wikipedia.org/wiki/2009_Bahrain_Gran...</td>\n",
       "      <td>2009</td>\n",
       "    </tr>\n",
       "    <tr>\n",
       "      <th>4</th>\n",
       "      <td>5</td>\n",
       "      <td>4</td>\n",
       "      <td>2009-05-10</td>\n",
       "      <td>Spanish Grand Prix</td>\n",
       "      <td>5</td>\n",
       "      <td>12:00:00</td>\n",
       "      <td>http://en.wikipedia.org/wiki/2009_Spanish_Gran...</td>\n",
       "      <td>2009</td>\n",
       "    </tr>\n",
       "  </tbody>\n",
       "</table>\n",
       "</div>"
      ],
      "text/plain": [
       "   race_id  circuit       date                   name  round      time  \\\n",
       "0        1        1 2009-03-29  Australian Grand Prix      1  06:00:00   \n",
       "1        2        2 2009-04-05   Malaysian Grand Prix      2  09:00:00   \n",
       "2        3       17 2009-04-19     Chinese Grand Prix      3  07:00:00   \n",
       "3        4        3 2009-04-26     Bahrain Grand Prix      4  12:00:00   \n",
       "4        5        4 2009-05-10     Spanish Grand Prix      5  12:00:00   \n",
       "\n",
       "                                                 url  year  \n",
       "0  http://en.wikipedia.org/wiki/2009_Australian_G...  2009  \n",
       "1  http://en.wikipedia.org/wiki/2009_Malaysian_Gr...  2009  \n",
       "2  http://en.wikipedia.org/wiki/2009_Chinese_Gran...  2009  \n",
       "3  http://en.wikipedia.org/wiki/2009_Bahrain_Gran...  2009  \n",
       "4  http://en.wikipedia.org/wiki/2009_Spanish_Gran...  2009  "
      ]
     },
     "execution_count": 49,
     "metadata": {},
     "output_type": "execute_result"
    }
   ],
   "source": [
    "# Vemos la data\n",
    "df_race.head()"
   ]
  },
  {
   "cell_type": "code",
   "execution_count": 52,
   "metadata": {},
   "outputs": [],
   "source": [
    "# Buscamos e indice del mayor numero de rondas\n",
    "id_max_round = df_race['round'].idxmax()"
   ]
  },
  {
   "cell_type": "code",
   "execution_count": 53,
   "metadata": {},
   "outputs": [
    {
     "data": {
      "text/plain": [
       "race_id                                                 1073\n",
       "circuit                                                   24\n",
       "date                                     2021-12-12 00:00:00\n",
       "name                                    Abu Dhabi Grand Prix\n",
       "round                                                     23\n",
       "time                                                13:00:00\n",
       "url        http://en.wikipedia.org/wiki/2021_Abu_Dhabi_Gr...\n",
       "year                                                    2021\n",
       "Name: 1057, dtype: object"
      ]
     },
     "execution_count": 53,
     "metadata": {},
     "output_type": "execute_result"
    }
   ],
   "source": [
    "# Buscamos el dato con el indice 1057\n",
    "df_race.loc[id_max_round,:]"
   ]
  },
  {
   "cell_type": "code",
   "execution_count": 55,
   "metadata": {},
   "outputs": [],
   "source": [
    "# Almacenamos el ID del circuit\n",
    "id_circuit = df_race.loc[id_max_round,:]['circuit']"
   ]
  },
  {
   "cell_type": "code",
   "execution_count": 57,
   "metadata": {},
   "outputs": [
    {
     "data": {
      "text/html": [
       "<div>\n",
       "<style scoped>\n",
       "    .dataframe tbody tr th:only-of-type {\n",
       "        vertical-align: middle;\n",
       "    }\n",
       "\n",
       "    .dataframe tbody tr th {\n",
       "        vertical-align: top;\n",
       "    }\n",
       "\n",
       "    .dataframe thead th {\n",
       "        text-align: right;\n",
       "    }\n",
       "</style>\n",
       "<table border=\"1\" class=\"dataframe\">\n",
       "  <thead>\n",
       "    <tr style=\"text-align: right;\">\n",
       "      <th></th>\n",
       "      <th>circuit_id</th>\n",
       "      <th>alti</th>\n",
       "      <th>circuit_ref</th>\n",
       "      <th>country</th>\n",
       "      <th>lat</th>\n",
       "      <th>lng</th>\n",
       "      <th>location</th>\n",
       "      <th>name</th>\n",
       "      <th>url</th>\n",
       "    </tr>\n",
       "  </thead>\n",
       "  <tbody>\n",
       "    <tr>\n",
       "      <th>0</th>\n",
       "      <td>1</td>\n",
       "      <td>10</td>\n",
       "      <td>albert_park</td>\n",
       "      <td>Australia</td>\n",
       "      <td>-37.84970</td>\n",
       "      <td>144.9680</td>\n",
       "      <td>Melbourne</td>\n",
       "      <td>Albert Park Grand Prix Circuit</td>\n",
       "      <td>http://en.wikipedia.org/wiki/Melbourne_Grand_P...</td>\n",
       "    </tr>\n",
       "    <tr>\n",
       "      <th>1</th>\n",
       "      <td>2</td>\n",
       "      <td>18</td>\n",
       "      <td>sepang</td>\n",
       "      <td>Malaysia</td>\n",
       "      <td>2.76083</td>\n",
       "      <td>101.7380</td>\n",
       "      <td>Kuala Lumpur</td>\n",
       "      <td>Sepang International Circuit</td>\n",
       "      <td>http://en.wikipedia.org/wiki/Sepang_Internatio...</td>\n",
       "    </tr>\n",
       "    <tr>\n",
       "      <th>2</th>\n",
       "      <td>3</td>\n",
       "      <td>7</td>\n",
       "      <td>bahrain</td>\n",
       "      <td>Bahrain</td>\n",
       "      <td>26.03250</td>\n",
       "      <td>50.5106</td>\n",
       "      <td>Sakhir</td>\n",
       "      <td>Bahrain International Circuit</td>\n",
       "      <td>http://en.wikipedia.org/wiki/Bahrain_Internati...</td>\n",
       "    </tr>\n",
       "  </tbody>\n",
       "</table>\n",
       "</div>"
      ],
      "text/plain": [
       "   circuit_id  alti  circuit_ref    country       lat       lng      location  \\\n",
       "0           1    10  albert_park  Australia -37.84970  144.9680     Melbourne   \n",
       "1           2    18       sepang   Malaysia   2.76083  101.7380  Kuala Lumpur   \n",
       "2           3     7      bahrain    Bahrain  26.03250   50.5106        Sakhir   \n",
       "\n",
       "                             name  \\\n",
       "0  Albert Park Grand Prix Circuit   \n",
       "1    Sepang International Circuit   \n",
       "2   Bahrain International Circuit   \n",
       "\n",
       "                                                 url  \n",
       "0  http://en.wikipedia.org/wiki/Melbourne_Grand_P...  \n",
       "1  http://en.wikipedia.org/wiki/Sepang_Internatio...  \n",
       "2  http://en.wikipedia.org/wiki/Bahrain_Internati...  "
      ]
     },
     "execution_count": 57,
     "metadata": {},
     "output_type": "execute_result"
    }
   ],
   "source": [
    "# VEMOS LA DATA DE CIRCUITS\n",
    "df_circuits.head(3)"
   ]
  },
  {
   "cell_type": "code",
   "execution_count": 60,
   "metadata": {},
   "outputs": [],
   "source": [
    "name = df_circuits[df_circuits['circuit_id'] == id_circuit]['name']"
   ]
  },
  {
   "cell_type": "code",
   "execution_count": 62,
   "metadata": {},
   "outputs": [
    {
     "data": {
      "text/plain": [
       "'Yas Marina Circuit'"
      ]
     },
     "execution_count": 62,
     "metadata": {},
     "output_type": "execute_result"
    }
   ],
   "source": [
    "# Respuesta\n",
    "name.values[0]"
   ]
  },
  {
   "cell_type": "markdown",
   "metadata": {},
   "source": [
    "## 5. Piloto con mayor cantidad de puntos en total, cuyo constructor sea de nacionalidad sea American o British"
   ]
  },
  {
   "cell_type": "code",
   "execution_count": 164,
   "metadata": {},
   "outputs": [
    {
     "data": {
      "text/html": [
       "<div>\n",
       "<style scoped>\n",
       "    .dataframe tbody tr th:only-of-type {\n",
       "        vertical-align: middle;\n",
       "    }\n",
       "\n",
       "    .dataframe tbody tr th {\n",
       "        vertical-align: top;\n",
       "    }\n",
       "\n",
       "    .dataframe thead th {\n",
       "        text-align: right;\n",
       "    }\n",
       "</style>\n",
       "<table border=\"1\" class=\"dataframe\">\n",
       "  <thead>\n",
       "    <tr style=\"text-align: right;\">\n",
       "      <th></th>\n",
       "      <th>constructor_id</th>\n",
       "      <th>constructor_ref</th>\n",
       "      <th>name</th>\n",
       "      <th>nationality</th>\n",
       "      <th>url</th>\n",
       "    </tr>\n",
       "  </thead>\n",
       "  <tbody>\n",
       "    <tr>\n",
       "      <th>0</th>\n",
       "      <td>1</td>\n",
       "      <td>mclaren</td>\n",
       "      <td>McLaren</td>\n",
       "      <td>British</td>\n",
       "      <td>http://en.wikipedia.org/wiki/McLaren\\r</td>\n",
       "    </tr>\n",
       "    <tr>\n",
       "      <th>1</th>\n",
       "      <td>2</td>\n",
       "      <td>bmw_sauber</td>\n",
       "      <td>BMW Sauber</td>\n",
       "      <td>German</td>\n",
       "      <td>http://en.wikipedia.org/wiki/BMW_Sauber\\r</td>\n",
       "    </tr>\n",
       "    <tr>\n",
       "      <th>2</th>\n",
       "      <td>3</td>\n",
       "      <td>williams</td>\n",
       "      <td>Williams</td>\n",
       "      <td>British</td>\n",
       "      <td>http://en.wikipedia.org/wiki/Williams_Grand_Pr...</td>\n",
       "    </tr>\n",
       "    <tr>\n",
       "      <th>3</th>\n",
       "      <td>4</td>\n",
       "      <td>renault</td>\n",
       "      <td>Renault</td>\n",
       "      <td>French</td>\n",
       "      <td>http://en.wikipedia.org/wiki/Renault_in_Formul...</td>\n",
       "    </tr>\n",
       "    <tr>\n",
       "      <th>4</th>\n",
       "      <td>5</td>\n",
       "      <td>toro_rosso</td>\n",
       "      <td>Toro Rosso</td>\n",
       "      <td>Italian</td>\n",
       "      <td>http://en.wikipedia.org/wiki/Scuderia_Toro_Ros...</td>\n",
       "    </tr>\n",
       "  </tbody>\n",
       "</table>\n",
       "</div>"
      ],
      "text/plain": [
       "   constructor_id constructor_ref        name nationality  \\\n",
       "0               1         mclaren     McLaren     British   \n",
       "1               2      bmw_sauber  BMW Sauber      German   \n",
       "2               3        williams    Williams     British   \n",
       "3               4         renault     Renault      French   \n",
       "4               5      toro_rosso  Toro Rosso     Italian   \n",
       "\n",
       "                                                 url  \n",
       "0             http://en.wikipedia.org/wiki/McLaren\\r  \n",
       "1          http://en.wikipedia.org/wiki/BMW_Sauber\\r  \n",
       "2  http://en.wikipedia.org/wiki/Williams_Grand_Pr...  \n",
       "3  http://en.wikipedia.org/wiki/Renault_in_Formul...  \n",
       "4  http://en.wikipedia.org/wiki/Scuderia_Toro_Ros...  "
      ]
     },
     "execution_count": 164,
     "metadata": {},
     "output_type": "execute_result"
    }
   ],
   "source": [
    "# Revisamos la data de constructors\n",
    "df_constructors.head()"
   ]
  },
  {
   "cell_type": "code",
   "execution_count": 165,
   "metadata": {},
   "outputs": [],
   "source": [
    "# Solo filtramos los ID de los constructores de American y British\n",
    "id_constructor = df_constructors[(df_constructors['nationality'] == 'American') | (df_constructors['nationality'] == 'British')]['constructor_id']"
   ]
  },
  {
   "cell_type": "code",
   "execution_count": 166,
   "metadata": {},
   "outputs": [
    {
     "data": {
      "text/plain": [
       "array([  1,   3,  16,  19,  21,  23,  24,  25,  26,  29,  30,  31,  32,\n",
       "        34,  37,  41,  46,  50,  52,  53,  57,  58,  63,  64,  66,  67,\n",
       "        68,  73,  75,  76,  77,  79,  80,  83,  84,  87,  88,  90,  91,\n",
       "        92,  94,  96,  97,  99, 101, 102, 106, 107, 108, 109, 110, 111,\n",
       "       112, 113, 114, 115, 116, 117, 118, 119, 120, 121, 122, 123, 125,\n",
       "       126, 129, 133, 134, 135, 136, 138, 139, 142, 143, 148, 149, 150,\n",
       "       151, 152, 155, 156, 157, 158, 159, 160, 161, 162, 166, 167, 168,\n",
       "       169, 170, 171, 172, 173, 176, 177, 178, 180, 181, 182, 183, 186,\n",
       "       187, 188, 189, 190, 191, 192, 193, 194, 195, 197, 198, 199, 200,\n",
       "       201, 202, 203, 204, 208, 209, 210, 211], dtype=int64)"
      ]
     },
     "execution_count": 166,
     "metadata": {},
     "output_type": "execute_result"
    }
   ],
   "source": [
    "id_constructor.values"
   ]
  },
  {
   "cell_type": "code",
   "execution_count": 167,
   "metadata": {},
   "outputs": [],
   "source": [
    "# Creamos una funcion que ayude a ponerle verdadero o falso si pertenecen a la lista anterior\n",
    "def searcID(id):\n",
    "    return id in id_constructor.values"
   ]
  },
  {
   "cell_type": "code",
   "execution_count": 150,
   "metadata": {},
   "outputs": [
    {
     "name": "stderr",
     "output_type": "stream",
     "text": [
      "C:\\Users\\tacas\\AppData\\Local\\Temp\\ipykernel_13228\\2543243679.py:1: SettingWithCopyWarning: \n",
      "A value is trying to be set on a copy of a slice from a DataFrame.\n",
      "Try using .loc[row_indexer,col_indexer] = value instead\n",
      "\n",
      "See the caveats in the documentation: https://pandas.pydata.org/pandas-docs/stable/user_guide/indexing.html#returning-a-view-versus-a-copy\n",
      "  df_results['Usar'] = df_results['driver'].apply(searcID)#\n"
     ]
    }
   ],
   "source": [
    "#df_results['Usar'] = df_results['driver'].apply(searcID)#"
   ]
  },
  {
   "cell_type": "code",
   "execution_count": 168,
   "metadata": {},
   "outputs": [],
   "source": [
    "# Devolvemos una columna con verdadero o falso si no cumple la condicion de la funcion\n",
    "valor = df_results['driver'].apply(searcID)"
   ]
  },
  {
   "cell_type": "code",
   "execution_count": 169,
   "metadata": {},
   "outputs": [],
   "source": [
    "# Filtramos solo los verdaderos\n",
    "df_results = df_results[valor]"
   ]
  },
  {
   "cell_type": "code",
   "execution_count": 170,
   "metadata": {},
   "outputs": [
    {
     "data": {
      "text/html": [
       "<div>\n",
       "<style scoped>\n",
       "    .dataframe tbody tr th:only-of-type {\n",
       "        vertical-align: middle;\n",
       "    }\n",
       "\n",
       "    .dataframe tbody tr th {\n",
       "        vertical-align: top;\n",
       "    }\n",
       "\n",
       "    .dataframe thead th {\n",
       "        text-align: right;\n",
       "    }\n",
       "</style>\n",
       "<table border=\"1\" class=\"dataframe\">\n",
       "  <thead>\n",
       "    <tr style=\"text-align: right;\">\n",
       "      <th></th>\n",
       "      <th>result_id</th>\n",
       "      <th>constructor</th>\n",
       "      <th>driver</th>\n",
       "      <th>fastest_lap</th>\n",
       "      <th>fastest_lap_speed</th>\n",
       "      <th>fastest_lap_time</th>\n",
       "      <th>grid</th>\n",
       "      <th>laps</th>\n",
       "      <th>miliseconds</th>\n",
       "      <th>number</th>\n",
       "      <th>points</th>\n",
       "      <th>position</th>\n",
       "      <th>position_order</th>\n",
       "      <th>position_text</th>\n",
       "      <th>race</th>\n",
       "      <th>ranked</th>\n",
       "      <th>status_id</th>\n",
       "      <th>times</th>\n",
       "      <th>Usar</th>\n",
       "    </tr>\n",
       "  </thead>\n",
       "  <tbody>\n",
       "    <tr>\n",
       "      <th>0</th>\n",
       "      <td>1</td>\n",
       "      <td>1</td>\n",
       "      <td>1</td>\n",
       "      <td>39</td>\n",
       "      <td>218.300</td>\n",
       "      <td>1:27.452</td>\n",
       "      <td>1</td>\n",
       "      <td>58</td>\n",
       "      <td>5690616</td>\n",
       "      <td>22</td>\n",
       "      <td>10.0</td>\n",
       "      <td>1</td>\n",
       "      <td>1</td>\n",
       "      <td>1</td>\n",
       "      <td>18</td>\n",
       "      <td>2</td>\n",
       "      <td>1</td>\n",
       "      <td>1:34:50.616</td>\n",
       "      <td>True</td>\n",
       "    </tr>\n",
       "    <tr>\n",
       "      <th>2</th>\n",
       "      <td>3</td>\n",
       "      <td>3</td>\n",
       "      <td>3</td>\n",
       "      <td>41</td>\n",
       "      <td>216.719</td>\n",
       "      <td>1:28.090</td>\n",
       "      <td>7</td>\n",
       "      <td>58</td>\n",
       "      <td>5698779</td>\n",
       "      <td>7</td>\n",
       "      <td>6.0</td>\n",
       "      <td>3</td>\n",
       "      <td>3</td>\n",
       "      <td>3</td>\n",
       "      <td>18</td>\n",
       "      <td>5</td>\n",
       "      <td>1</td>\n",
       "      <td>+8.163</td>\n",
       "      <td>True</td>\n",
       "    </tr>\n",
       "    <tr>\n",
       "      <th>15</th>\n",
       "      <td>16</td>\n",
       "      <td>10</td>\n",
       "      <td>16</td>\n",
       "      <td>8</td>\n",
       "      <td>207.461</td>\n",
       "      <td>1:32.021</td>\n",
       "      <td>22</td>\n",
       "      <td>8</td>\n",
       "      <td>0</td>\n",
       "      <td>20</td>\n",
       "      <td>0.0</td>\n",
       "      <td>0</td>\n",
       "      <td>16</td>\n",
       "      <td>R</td>\n",
       "      <td>18</td>\n",
       "      <td>17</td>\n",
       "      <td>9</td>\n",
       "      <td>0</td>\n",
       "      <td>True</td>\n",
       "    </tr>\n",
       "    <tr>\n",
       "      <th>18</th>\n",
       "      <td>19</td>\n",
       "      <td>8</td>\n",
       "      <td>19</td>\n",
       "      <td>0</td>\n",
       "      <td>0.000</td>\n",
       "      <td>0</td>\n",
       "      <td>21</td>\n",
       "      <td>0</td>\n",
       "      <td>0</td>\n",
       "      <td>19</td>\n",
       "      <td>0.0</td>\n",
       "      <td>0</td>\n",
       "      <td>19</td>\n",
       "      <td>R</td>\n",
       "      <td>18</td>\n",
       "      <td>0</td>\n",
       "      <td>4</td>\n",
       "      <td>0</td>\n",
       "      <td>True</td>\n",
       "    </tr>\n",
       "    <tr>\n",
       "      <th>20</th>\n",
       "      <td>21</td>\n",
       "      <td>10</td>\n",
       "      <td>21</td>\n",
       "      <td>0</td>\n",
       "      <td>0.000</td>\n",
       "      <td>0</td>\n",
       "      <td>16</td>\n",
       "      <td>0</td>\n",
       "      <td>0</td>\n",
       "      <td>21</td>\n",
       "      <td>0.0</td>\n",
       "      <td>0</td>\n",
       "      <td>21</td>\n",
       "      <td>R</td>\n",
       "      <td>18</td>\n",
       "      <td>0</td>\n",
       "      <td>4</td>\n",
       "      <td>0</td>\n",
       "      <td>True</td>\n",
       "    </tr>\n",
       "  </tbody>\n",
       "</table>\n",
       "</div>"
      ],
      "text/plain": [
       "    result_id  constructor  driver  fastest_lap  fastest_lap_speed  \\\n",
       "0           1            1       1           39            218.300   \n",
       "2           3            3       3           41            216.719   \n",
       "15         16           10      16            8            207.461   \n",
       "18         19            8      19            0              0.000   \n",
       "20         21           10      21            0              0.000   \n",
       "\n",
       "   fastest_lap_time  grid  laps  miliseconds  number  points  position  \\\n",
       "0          1:27.452     1    58      5690616      22    10.0         1   \n",
       "2          1:28.090     7    58      5698779       7     6.0         3   \n",
       "15         1:32.021    22     8            0      20     0.0         0   \n",
       "18                0    21     0            0      19     0.0         0   \n",
       "20                0    16     0            0      21     0.0         0   \n",
       "\n",
       "    position_order position_text  race  ranked  status_id        times  Usar  \n",
       "0                1             1    18       2          1  1:34:50.616  True  \n",
       "2                3             3    18       5          1       +8.163  True  \n",
       "15              16             R    18      17          9            0  True  \n",
       "18              19             R    18       0          4            0  True  \n",
       "20              21             R    18       0          4            0  True  "
      ]
     },
     "execution_count": 170,
     "metadata": {},
     "output_type": "execute_result"
    }
   ],
   "source": [
    "df_results.head()"
   ]
  },
  {
   "cell_type": "code",
   "execution_count": 171,
   "metadata": {},
   "outputs": [],
   "source": [
    "# Agrupamos y sumamos sus puntajes, luego buscamos el indice del puntaje mayor\n",
    "id_driver_maxpoint = df_results.groupby(['driver']).agg({'points':'sum'})['points'].idxmax()"
   ]
  },
  {
   "cell_type": "code",
   "execution_count": 172,
   "metadata": {},
   "outputs": [],
   "source": [
    "# Extraemos el forename y surname\n",
    "forename = df_drivers[df_drivers['driver_id'] == id_driver_maxpoint]['forename']\n",
    "surname = df_drivers[df_drivers['driver_id'] == id_driver_maxpoint]['surname']"
   ]
  },
  {
   "cell_type": "code",
   "execution_count": 173,
   "metadata": {},
   "outputs": [
    {
     "data": {
      "text/plain": [
       "0    Lewis Hamilton\n",
       "dtype: object"
      ]
     },
     "execution_count": 173,
     "metadata": {},
     "output_type": "execute_result"
    }
   ],
   "source": [
    "#Respuesta\n",
    "forename+\" \"+surname"
   ]
  }
 ],
 "metadata": {
  "kernelspec": {
   "display_name": "Python 3.9.12 ('base')",
   "language": "python",
   "name": "python3"
  },
  "language_info": {
   "codemirror_mode": {
    "name": "ipython",
    "version": 3
   },
   "file_extension": ".py",
   "mimetype": "text/x-python",
   "name": "python",
   "nbconvert_exporter": "python",
   "pygments_lexer": "ipython3",
   "version": "3.9.12"
  },
  "orig_nbformat": 4,
  "vscode": {
   "interpreter": {
    "hash": "c9f04e99f58ad3e8e527e86f3db95f6f41dccd7eee35f4fab2a97d655604e485"
   }
  }
 },
 "nbformat": 4,
 "nbformat_minor": 2
}
